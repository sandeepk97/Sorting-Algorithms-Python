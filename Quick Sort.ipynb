{
 "cells": [
  {
   "cell_type": "code",
   "execution_count": null,
   "metadata": {},
   "outputs": [],
   "source": []
  },
  {
   "cell_type": "code",
   "execution_count": null,
   "metadata": {},
   "outputs": [],
   "source": []
  },
  {
   "cell_type": "markdown",
   "metadata": {},
   "source": [
    "# SELECTION SORT "
   ]
  },
  {
   "cell_type": "code",
   "execution_count": null,
   "metadata": {},
   "outputs": [],
   "source": []
  },
  {
   "cell_type": "code",
   "execution_count": 3,
   "metadata": {},
   "outputs": [
    {
     "name": "stdout",
     "output_type": "stream",
     "text": [
      "[14, 16, 19, 32, 35]\n"
     ]
    }
   ],
   "source": [
    "def selectionSort( itemsList ):\n",
    "    n = len( itemsList )\n",
    "    for i in range( n - 1 ): \n",
    "        minValueIndex = i\n",
    "\n",
    "        for j in range( i + 1, n ):\n",
    "            if itemsList[j] < itemsList[minValueIndex] :\n",
    "                minValueIndex = j\n",
    "\n",
    "        if minValueIndex != i :\n",
    "            temp = itemsList[i]\n",
    "            itemsList[i] = itemsList[minValueIndex]\n",
    "            itemsList[minValueIndex] = temp\n",
    "\n",
    "    return itemsList\n",
    "\n",
    "elements = [32,16,19,35,14]\n",
    "print(selectionSort(elements))"
   ]
  },
  {
   "cell_type": "markdown",
   "metadata": {},
   "source": [
    "## Time Complexity"
   ]
  },
  {
   "cell_type": "markdown",
   "metadata": {},
   "source": [
    "Worst case – this is where the list provided is in descending order. The algorithm performs the maximum number of executions which is expressed as O(n2)\n",
    "\n",
    "Best case – this occurs when the provided list is already sorted. The algorithm performs the minimum number of executions which is expressed as Big Omega(n2)\n",
    "\n",
    "Average case – this occurs when the list is in random order. The average complexity is expressed as Big Theta(n2)"
   ]
  },
  {
   "cell_type": "markdown",
   "metadata": {},
   "source": [
    "## When to use selection sort?\n"
   ]
  },
  {
   "cell_type": "markdown",
   "metadata": {},
   "source": [
    "1. You have to sort a small list of items in ascending order\n",
    "2. When the cost of swapping values is insignificant\n",
    "3. It is also used when you need to make sure that all the values in the list have been checked."
   ]
  },
  {
   "cell_type": "markdown",
   "metadata": {},
   "source": [
    "## Advantages of Selection Sort\n"
   ]
  },
  {
   "cell_type": "markdown",
   "metadata": {},
   "source": [
    "1. It performs very well on small lists\n",
    "2. It is an in-place algorithm. It does not require a lot of space for sorting. Only one extra space is required for holding the temporal variable.\n",
    "3. It performs well on items that have already been sorted."
   ]
  },
  {
   "cell_type": "markdown",
   "metadata": {},
   "source": [
    "## Disadvantages of Selection Sort\n"
   ]
  },
  {
   "cell_type": "markdown",
   "metadata": {},
   "source": [
    "1. It performs poorly when working on huge lists.\n",
    "2. The number of iterations made during the sorting is n-squared, where n is the total number of elements in the list.\n",
    "3. Other algorithms, such as quicksort, have better performance compared to the selection sort."
   ]
  }
 ],
 "metadata": {
  "kernelspec": {
   "display_name": "Python 3",
   "language": "python",
   "name": "python3"
  },
  "language_info": {
   "codemirror_mode": {
    "name": "ipython",
    "version": 3
   },
   "file_extension": ".py",
   "mimetype": "text/x-python",
   "name": "python",
   "nbconvert_exporter": "python",
   "pygments_lexer": "ipython3",
   "version": "3.8.5"
  }
 },
 "nbformat": 4,
 "nbformat_minor": 4
}
