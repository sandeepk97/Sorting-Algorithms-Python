{
 "cells": [
  {
   "cell_type": "markdown",
   "metadata": {},
   "source": [
    "# INSERTION SORT "
   ]
  },
  {
   "cell_type": "code",
   "execution_count": 3,
   "metadata": {},
   "outputs": [
    {
     "name": "stdout",
     "output_type": "stream",
     "text": [
      "[14, 16, 19, 32, 35]\n"
     ]
    }
   ],
   "source": [
    "def insertionSort( itemsList ):\n",
    "    for i in range(1, len(itemsList)):\n",
    "        key = itemsList[i]\n",
    "        j = i-1\n",
    "        while j >=0 and key < itemsList[j] :\n",
    "                itemsList[j+1] = itemsList[j]\n",
    "                j -= 1\n",
    "        itemsList[j+1] = key\n",
    "\n",
    "    return itemsList\n",
    "\n",
    "elements = [32,16,19,35,14]\n",
    "print(insertionSort(elements))"
   ]
  },
  {
   "cell_type": "markdown",
   "metadata": {},
   "source": [
    "# Binary Insertion Sort\n"
   ]
  },
  {
   "cell_type": "code",
   "execution_count": null,
   "metadata": {},
   "outputs": [],
   "source": [
    " \n",
    "def binary_search(itemsList, val, start, end):\n",
    "    if start == end:\n",
    "        if itemsList[start] > val:\n",
    "            return start\n",
    "        else:\n",
    "            return start+1\n",
    "        \n",
    "    if start > end:\n",
    "        return start\n",
    " \n",
    "    mid = (start+end)//2\n",
    "    if itemsList[mid] < val:\n",
    "        return binary_search(itemsList, val, mid+1, end)\n",
    "    elif itemsList[mid] > val:\n",
    "        return binary_search(itemsList, val, start, mid-1)\n",
    "    else:\n",
    "        return mid\n",
    " \n",
    " \n",
    "def insertion_sort(itemsList):\n",
    "    for i in range(1, len(itemsList)):\n",
    "        val = itemsList[i]\n",
    "        j = binary_search(itemsList, val, 0, i-1)\n",
    "        itemsList = itemsList[:j] + [val] + itemsList[j:i] + itemsList[i+1:]\n",
    "    return itemsList"
   ]
  }
 ],
 "metadata": {
  "kernelspec": {
   "display_name": "Python 3",
   "language": "python",
   "name": "python3"
  },
  "language_info": {
   "codemirror_mode": {
    "name": "ipython",
    "version": 3
   },
   "file_extension": ".py",
   "mimetype": "text/x-python",
   "name": "python",
   "nbconvert_exporter": "python",
   "pygments_lexer": "ipython3",
   "version": "3.8.5"
  }
 },
 "nbformat": 4,
 "nbformat_minor": 4
}
