{
 "cells": [
  {
   "cell_type": "markdown",
   "metadata": {},
   "source": [
    "# INSERTION SORT "
   ]
  },
  {
   "cell_type": "code",
   "execution_count": 3,
   "metadata": {},
   "outputs": [
    {
     "name": "stdout",
     "output_type": "stream",
     "text": [
      "[14, 16, 19, 32, 35]\n"
     ]
    }
   ],
   "source": [
    "def insertionSort( itemsList ):\n",
    "    for i in range(1, len(itemsList)):\n",
    "        key = itemsList[i]\n",
    "        j = i-1\n",
    "        while j >=0 and key < itemsList[j] :\n",
    "                itemsList[j+1] = itemsList[j]\n",
    "                j -= 1\n",
    "        itemsList[j+1] = key\n",
    "\n",
    "    return itemsList\n",
    "\n",
    "elements = [32,16,19,35,14]\n",
    "print(insertionSort(elements))"
   ]
  }
 ],
 "metadata": {
  "kernelspec": {
   "display_name": "Python 3",
   "language": "python",
   "name": "python3"
  },
  "language_info": {
   "codemirror_mode": {
    "name": "ipython",
    "version": 3
   },
   "file_extension": ".py",
   "mimetype": "text/x-python",
   "name": "python",
   "nbconvert_exporter": "python",
   "pygments_lexer": "ipython3",
   "version": "3.8.5"
  }
 },
 "nbformat": 4,
 "nbformat_minor": 4
}
